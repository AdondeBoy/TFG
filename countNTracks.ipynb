{
  "nbformat": 4,
  "nbformat_minor": 0,
  "metadata": {
    "colab": {
      "provenance": [],
      "gpuType": "T4"
    },
    "kernelspec": {
      "name": "python3",
      "display_name": "Python 3"
    },
    "language_info": {
      "name": "python"
    },
    "accelerator": "GPU"
  },
  "cells": [
    {
      "cell_type": "code",
      "source": [
        "# Borrar contenido de carpeta midis\n",
        "!rm -rf midis/*"
      ],
      "metadata": {
        "id": "yYLbqrLUxXyI"
      },
      "execution_count": null,
      "outputs": []
    },
    {
      "cell_type": "code",
      "source": [
        "# Crear carpeta midis\n",
        "!mkdir midis\n",
        "# Insertar en ella los archivos .mid"
      ],
      "metadata": {
        "id": "dlarqHGhYYcx"
      },
      "execution_count": 7,
      "outputs": []
    },
    {
      "cell_type": "code",
      "source": [
        "!pip install mido"
      ],
      "metadata": {
        "colab": {
          "base_uri": "https://localhost:8080/"
        },
        "id": "r60TCzHYxiHy",
        "outputId": "d2eb1a7b-d3dc-47bc-c22c-9733780c4bc9"
      },
      "execution_count": 2,
      "outputs": [
        {
          "output_type": "stream",
          "name": "stdout",
          "text": [
            "Collecting mido\n",
            "  Downloading mido-1.3.3-py3-none-any.whl.metadata (6.4 kB)\n",
            "Requirement already satisfied: packaging in /usr/local/lib/python3.11/dist-packages (from mido) (24.2)\n",
            "Downloading mido-1.3.3-py3-none-any.whl (54 kB)\n",
            "\u001b[?25l   \u001b[90m━━━━━━━━━━━━━━━━━━━━━━━━━━━━━━━━━━━━━━━━\u001b[0m \u001b[32m0.0/54.6 kB\u001b[0m \u001b[31m?\u001b[0m eta \u001b[36m-:--:--\u001b[0m\r\u001b[2K   \u001b[90m━━━━━━━━━━━━━━━━━━━━━━━━━━━━━━━━━━━━━━━━\u001b[0m \u001b[32m54.6/54.6 kB\u001b[0m \u001b[31m2.1 MB/s\u001b[0m eta \u001b[36m0:00:00\u001b[0m\n",
            "\u001b[?25hInstalling collected packages: mido\n",
            "Successfully installed mido-1.3.3\n"
          ]
        }
      ]
    },
    {
      "cell_type": "markdown",
      "source": [
        "#Num instrumentos según tracks"
      ],
      "metadata": {
        "id": "G2HXKkxG1rhf"
      }
    },
    {
      "source": [
        "import glob\n",
        "import mido\n",
        "\n",
        "# Listar todos los archivos .mid en la carpeta \"midis\"\n",
        "midi_files = glob.glob(\"midis/*.mid\")\n",
        "\n",
        "# Recorrer la lista de archivos, contar pistas y buscar drums\n",
        "for midi_file in midi_files:\n",
        "    try:\n",
        "        # Cargar el archivo MIDI usando mido\n",
        "        mid = mido.MidiFile(midi_file)\n",
        "\n",
        "        # Contar el número de instrumentos\n",
        "        num_tracks = len(mid.tracks)\n",
        "\n",
        "        #check that name doesn't contain \"modified\"\n",
        "        if num_tracks > 9 and \"modified\" not in midi_file:\n",
        "          print(f\"El archivo '{midi_file}' contiene más de 9 pistas\")\n",
        "\n",
        "    except Exception as e:\n",
        "        print(f\"No se pudo procesar el archivo '{midi_file}': {e}\")"
      ],
      "cell_type": "code",
      "metadata": {
        "colab": {
          "base_uri": "https://localhost:8080/"
        },
        "id": "DiX1v6d1XaLa",
        "outputId": "f2845dc7-0542-45ee-a03b-54827a7beeee"
      },
      "execution_count": 8,
      "outputs": [
        {
          "output_type": "stream",
          "name": "stdout",
          "text": [
            "El archivo 'midis/ST Unknown 5.mid' contiene más de 9 pistas\n",
            "El archivo 'midis/SS Ballad of the Goddess.mid' contiene más de 9 pistas\n"
          ]
        }
      ]
    },
    {
      "cell_type": "markdown",
      "source": [
        "#Según program_change"
      ],
      "metadata": {
        "id": "uFg_g2ju1-fZ"
      }
    },
    {
      "cell_type": "markdown",
      "source": [
        "##Núm instrumentos > 9"
      ],
      "metadata": {
        "id": "ghdf0cLk2OH_"
      }
    },
    {
      "cell_type": "code",
      "source": [
        "import glob\n",
        "import mido\n",
        "\n",
        "# Listar todos los archivos .mid en la carpeta \"midis\"\n",
        "midi_files = glob.glob(\"midis/*.mid\")\n",
        "\n",
        "for midi_file in midi_files:\n",
        "    midi = mido.MidiFile(midi_file)\n",
        "    instrumentos_por_canal = {}\n",
        "\n",
        "    for track in midi.tracks:\n",
        "        for msg in track:\n",
        "            if msg.type == 'program_change':\n",
        "                canal = msg.channel\n",
        "                programa = msg.program  # 0-127, General MIDI\n",
        "                if canal not in instrumentos_por_canal:\n",
        "                    instrumentos_por_canal[canal] = set()\n",
        "                instrumentos_por_canal[canal].add(programa)\n",
        "\n",
        "    # Contar todos los instrumentos únicos\n",
        "    instrumentos_unicos = set()\n",
        "    for programas in instrumentos_por_canal.values():\n",
        "        instrumentos_unicos.update(programas)\n",
        "\n",
        "    nPistas = len(instrumentos_unicos)\n",
        "    if nPistas > 9 and \"modified\" not in midi_file:\n",
        "    #if nPistas > 9:\n",
        "        print(f\"El archivo '{midi_file}' contiene más de 9 instrumentos: {nPistas} instrumentos\")\n"
      ],
      "metadata": {
        "colab": {
          "base_uri": "https://localhost:8080/"
        },
        "id": "tpddGjiBy9YT",
        "outputId": "c2ff2830-901f-4a28-e5e3-1f63ec63e556"
      },
      "execution_count": 9,
      "outputs": [
        {
          "output_type": "stream",
          "name": "stdout",
          "text": [
            "El archivo 'midis/MC Mt. Crenel.mid' contiene más de 9 instrumentos: 11 instrumentos\n",
            "El archivo 'midis/MC Staff Roll.mid' contiene más de 9 instrumentos: 33 instrumentos\n",
            "El archivo 'midis/MC Cloud Tops.mid' contiene más de 9 instrumentos: 21 instrumentos\n"
          ]
        }
      ]
    },
    {
      "cell_type": "markdown",
      "source": [
        "##Núm de archivos no aptos para MusicVAE"
      ],
      "metadata": {
        "id": "6c2zPPgF2GDb"
      }
    },
    {
      "cell_type": "markdown",
      "source": [
        "En este bloque se guardan los ficheros aptos para el siguiente"
      ],
      "metadata": {
        "id": "OgMZzG5Y5fcD"
      }
    },
    {
      "cell_type": "code",
      "source": [
        "import glob\n",
        "import mido\n",
        "\n",
        "midi_files_lista_limpiar = []\n",
        "\n",
        "# Listar todos los archivos .mid en la carpeta \"midis\"\n",
        "midi_files = glob.glob(\"midis/*.mid\")\n",
        "\n",
        "for midi_file in midi_files:\n",
        "    midi = mido.MidiFile(midi_file)\n",
        "\n",
        "    instrumentos_melodicos = set()\n",
        "    canales_percusion = set()\n",
        "\n",
        "    for track in midi.tracks:\n",
        "        for msg in track:\n",
        "            if msg.type == 'program_change':\n",
        "                if msg.channel == 9:\n",
        "                    canales_percusion.add(9)\n",
        "                else:\n",
        "                    instrumentos_melodicos.add((msg.channel, msg.program))\n",
        "\n",
        "            elif msg.type in ['note_on', 'note_off']:\n",
        "                if msg.channel == 9:\n",
        "                    canales_percusion.add(9)\n",
        "\n",
        "    n_instrumentos_melodicos = len(instrumentos_melodicos)\n",
        "    n_canales_percusion = len(canales_percusion)\n",
        "\n",
        "    #if n_instrumentos_melodicos > 8 or n_canales_percusion > 1:\n",
        "    if (n_instrumentos_melodicos > 8 or n_canales_percusion > 1) and \"modified\" not in midi_file:\n",
        "        print(f\"Incompatible: '{midi_file}' → {n_instrumentos_melodicos} instrumentos melódicos, {n_canales_percusion} pista(s) de percusión\")\n",
        "        midi_files_lista_limpiar.append(midi_file)\n"
      ],
      "metadata": {
        "colab": {
          "base_uri": "https://localhost:8080/"
        },
        "id": "LGcH67Jy0gc3",
        "outputId": "001d20c9-4ebb-4816-89d2-ad9f4dbbd73f"
      },
      "execution_count": 10,
      "outputs": [
        {
          "output_type": "stream",
          "name": "stdout",
          "text": [
            "Incompatible: 'midis/MC Mt. Crenel.mid' → 12 instrumentos melódicos, 1 pista(s) de percusión\n",
            "Incompatible: 'midis/MC Hyrule Field (MT).mid' → 10 instrumentos melódicos, 0 pista(s) de percusión\n",
            "Incompatible: 'midis/ST Unknown 5.mid' → 16 instrumentos melódicos, 0 pista(s) de percusión\n",
            "Incompatible: 'midis/FS Title Theme.mid' → 9 instrumentos melódicos, 0 pista(s) de percusión\n",
            "Incompatible: 'midis/MC Hyrule Town.mid' → 12 instrumentos melódicos, 0 pista(s) de percusión\n",
            "Incompatible: 'midis/MC Staff Roll.mid' → 63 instrumentos melódicos, 0 pista(s) de percusión\n",
            "Incompatible: 'midis/FS Staff Roll.mid' → 10 instrumentos melódicos, 0 pista(s) de percusión\n",
            "Incompatible: 'midis/MC Cloud Tops.mid' → 35 instrumentos melódicos, 0 pista(s) de percusión\n",
            "Incompatible: 'midis/ALTTP Dark World.mid' → 13 instrumentos melódicos, 0 pista(s) de percusión\n"
          ]
        }
      ]
    },
    {
      "cell_type": "markdown",
      "source": [
        "##Núm de instrumentos usados en no aptos"
      ],
      "metadata": {
        "id": "fWikxzAU2aZr"
      }
    },
    {
      "cell_type": "markdown",
      "source": [
        "Debería salir lista vacía si no se usan más de 8 melódicos y 1 drums"
      ],
      "metadata": {
        "id": "zXUw0l4N5p5U"
      }
    },
    {
      "cell_type": "code",
      "source": [
        "import glob\n",
        "import mido\n",
        "\n",
        "# Listar todos los archivos .mid en la carpeta \"midis\"\n",
        "midi_files = glob.glob(\"midis/*.mid\")\n",
        "\n",
        "for midi_file in midi_files_lista_limpiar:\n",
        "    midi = mido.MidiFile(midi_file)\n",
        "\n",
        "    # Mapas para detectar si hay notas tocadas por cada canal\n",
        "    canales_con_program_change = {}\n",
        "    canales_con_notas = set()\n",
        "    hay_percusion = False\n",
        "\n",
        "    for track in midi.tracks:\n",
        "        current_program = {}  # canal -> programa actual\n",
        "        for msg in track:\n",
        "            if msg.type == 'program_change':\n",
        "                canales_con_program_change[msg.channel] = msg.program\n",
        "\n",
        "            elif msg.type == 'note_on' and msg.velocity > 0:\n",
        "                canal = msg.channel\n",
        "                if canal == 9:\n",
        "                    hay_percusion = True\n",
        "                else:\n",
        "                    canales_con_notas.add(canal)\n",
        "\n",
        "    # Asociar solo los instrumentos que realmente tocaron notas\n",
        "    instrumentos_usados = set()\n",
        "    for canal in canales_con_notas:\n",
        "        if canal in canales_con_program_change:\n",
        "            programa = canales_con_program_change[canal]\n",
        "            instrumentos_usados.add((canal, programa))\n",
        "        else:\n",
        "            # Si no hay program_change, asumimos instrumento por defecto (programa 0)\n",
        "            instrumentos_usados.add((canal, 0))\n",
        "\n",
        "    n_instrumentos_melodicos = len(instrumentos_usados)\n",
        "    n_canales_percusion = 1 if hay_percusion else 0\n",
        "\n",
        "    if (n_instrumentos_melodicos > 8 or n_canales_percusion > 1) and \"modified\" not in midi_file:\n",
        "        print(f\"Incompatible: '{midi_file}' → {n_instrumentos_melodicos} instrumentos melódicos, {n_canales_percusion} pista(s) de percusión\")\n"
      ],
      "metadata": {
        "id": "3pRVBp7w1DHu",
        "colab": {
          "base_uri": "https://localhost:8080/"
        },
        "outputId": "2b0d61b2-2142-42e2-ea60-3ef94127c576"
      },
      "execution_count": 11,
      "outputs": [
        {
          "output_type": "stream",
          "name": "stdout",
          "text": [
            "Incompatible: 'midis/MC Hyrule Field (MT).mid' → 9 instrumentos melódicos, 0 pista(s) de percusión\n",
            "Incompatible: 'midis/ST Unknown 5.mid' → 10 instrumentos melódicos, 0 pista(s) de percusión\n"
          ]
        }
      ]
    },
    {
      "cell_type": "markdown",
      "source": [
        "#Eliminar instrumentos no utilizados"
      ],
      "metadata": {
        "id": "oOCYDQvm2cqK"
      }
    },
    {
      "cell_type": "code",
      "source": [
        "import glob\n",
        "import mido\n",
        "from mido import MidiFile, MidiTrack, Message\n",
        "import os\n",
        "\n",
        "# Directorio de entrada y salida\n",
        "midi_files = glob.glob(\"midis/*.mid\") # Iterar sobre todos los archivos si es necesario\n",
        "output_dir = \"midis_limpios/\"\n",
        "\n",
        "os.makedirs(output_dir, exist_ok=True)\n",
        "\n",
        "for midi_file in midi_files_lista_limpiar:\n",
        "    midi = MidiFile(midi_file)\n",
        "    new_midi = MidiFile()\n",
        "    new_midi.ticks_per_beat = midi.ticks_per_beat\n",
        "\n",
        "    for i, track in enumerate(midi.tracks):\n",
        "        # Identificar los canales que tienen notas en esta pista\n",
        "        canales_con_notas_en_pista = set()\n",
        "        for msg in track:\n",
        "            if msg.type == 'note_on' and msg.velocity > 0:\n",
        "                canales_con_notas_en_pista.add(msg.channel)\n",
        "\n",
        "        # Crear una nueva pista para los mensajes de este track original\n",
        "        new_track_for_this_original = MidiTrack()\n",
        "\n",
        "        for msg in track:\n",
        "            # Mantener mensajes meta en su pista original o copiarlos\n",
        "            if msg.is_meta:\n",
        "                 new_track_for_this_original.append(msg)\n",
        "            # Mantener mensajes de control, program change y notas solo para canales con notas o canal 9\n",
        "            elif msg.type in ['program_change', 'control_change', 'note_on', 'note_off']:\n",
        "                 if msg.channel in canales_con_notas_en_pista or msg.channel == 9: # Mantener drums (canal 9)\n",
        "                     new_track_for_this_original.append(msg)\n",
        "            # Puedes añadir otros tipos de mensajes si son relevantes para conservar\n",
        "\n",
        "        # Añadir la nueva pista si no está vacía (excepto si solo contiene mensajes meta al inicio)\n",
        "        # Una pista vacía o con solo mensajes meta iniciales no es útil\n",
        "        if any(not m.is_meta for m in new_track_for_this_original):\n",
        "             new_midi.tracks.append(new_track_for_this_original)\n",
        "        elif all(m.is_meta for m in new_track_for_this_original) and new_track_for_this_original:\n",
        "             # Si solo hay mensajes meta, añadir esta pista solo si es la primera pista original\n",
        "             # para evitar duplicar metadatos como el tempo\n",
        "             if i == 0:\n",
        "                 new_midi.tracks.append(new_track_for_this_original)\n",
        "\n",
        "\n",
        "    # Guardar el nuevo archivo solo si la nueva_midi tiene pistas (excluyendo una posible pista meta vacía)\n",
        "    if any(not track for track in new_midi.tracks) or not new_midi.tracks:\n",
        "        print(f\"El archivo '{os.path.basename(midi_file)}' resultó vacío después de la limpieza.\")\n",
        "    else:\n",
        "        output_path = os.path.join(output_dir, os.path.basename(midi_file))\n",
        "        new_midi.save(output_path)\n",
        "        print(f\"Limpio: {os.path.basename(midi_file)} → guardado en {output_dir}\")"
      ],
      "metadata": {
        "colab": {
          "base_uri": "https://localhost:8080/"
        },
        "id": "ytlrILy-LJPd",
        "outputId": "1199a44a-e809-456a-8609-85c61d80bc88"
      },
      "execution_count": 14,
      "outputs": [
        {
          "output_type": "stream",
          "name": "stdout",
          "text": [
            "Limpio: MC Mt. Crenel.mid → guardado en midis_limpios/\n",
            "Limpio: MC Hyrule Field (MT).mid → guardado en midis_limpios/\n",
            "Limpio: ST Unknown 5.mid → guardado en midis_limpios/\n",
            "Limpio: FS Title Theme.mid → guardado en midis_limpios/\n",
            "Limpio: MC Hyrule Town.mid → guardado en midis_limpios/\n",
            "Limpio: MC Staff Roll.mid → guardado en midis_limpios/\n",
            "Limpio: FS Staff Roll.mid → guardado en midis_limpios/\n",
            "Limpio: MC Cloud Tops.mid → guardado en midis_limpios/\n",
            "Limpio: ALTTP Dark World.mid → guardado en midis_limpios/\n"
          ]
        }
      ]
    },
    {
      "cell_type": "code",
      "source": [
        "# borrar \"midis_limpios\"\n",
        "!rm -rf midis_limpios/*"
      ],
      "metadata": {
        "id": "H_xO9bEj31bC"
      },
      "execution_count": 13,
      "outputs": []
    }
  ]
}